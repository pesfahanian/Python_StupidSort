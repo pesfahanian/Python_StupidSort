{
  "nbformat": 4,
  "nbformat_minor": 0,
  "metadata": {
    "colab": {
      "name": "Stupid Sort.ipynb",
      "version": "0.3.2",
      "provenance": [],
      "include_colab_link": true
    },
    "kernelspec": {
      "name": "python3",
      "display_name": "Python 3"
    }
  },
  "cells": [
    {
      "cell_type": "markdown",
      "metadata": {
        "id": "view-in-github",
        "colab_type": "text"
      },
      "source": [
        "<a href=\"https://colab.research.google.com/github/pesfahanian/Python_StupidSort/blob/master/Stupid_Sort.ipynb\" target=\"_parent\"><img src=\"https://colab.research.google.com/assets/colab-badge.svg\" alt=\"Open In Colab\"/></a>"
      ]
    },
    {
      "metadata": {
        "id": "6U1ykmc-7Ioo",
        "colab_type": "code",
        "colab": {}
      },
      "cell_type": "code",
      "source": [
        "import itertools\n",
        "import time\n",
        "import random"
      ],
      "execution_count": 0,
      "outputs": []
    },
    {
      "metadata": {
        "id": "osPkVcSsDYku",
        "colab_type": "code",
        "colab": {}
      },
      "cell_type": "code",
      "source": [
        "def create_random_permutation(a):\n",
        "  return random.sample(range(1, 10), a)"
      ],
      "execution_count": 0,
      "outputs": []
    },
    {
      "metadata": {
        "id": "iO9IC-zaCL6o",
        "colab_type": "code",
        "colab": {}
      },
      "cell_type": "code",
      "source": [
        "_start_time = time.time()\n",
        "\n",
        "def tic():\n",
        "    global _start_time \n",
        "    _start_time = time.time()\n",
        "\n",
        "def toc():\n",
        "    milliseconds = (time.time() - _start_time)*1000\n",
        "    print(milliseconds)"
      ],
      "execution_count": 0,
      "outputs": []
    },
    {
      "metadata": {
        "id": "sVqEzs4g9vhU",
        "colab_type": "code",
        "colab": {}
      },
      "cell_type": "code",
      "source": [
        "def check_if_sort(p): \n",
        "  count = 0\n",
        "  for i in range(0, len(p)-1):\n",
        "    if(p[i]<=p[i+1]):\n",
        "      count += 1\n",
        "    else:\n",
        "      break\n",
        "  if(count==len(p)-1):\n",
        "    return 0"
      ],
      "execution_count": 0,
      "outputs": []
    },
    {
      "metadata": {
        "id": "R1Vt_83E9A-_",
        "colab_type": "code",
        "colab": {}
      },
      "cell_type": "code",
      "source": [
        "def stupid_sort(array):\n",
        "  permutations = list(itertools.permutations(array)).copy()\n",
        "  for p in permutations:\n",
        "    if(check_if_sort(p)==0):\n",
        "      print(p)\n",
        "      break"
      ],
      "execution_count": 0,
      "outputs": []
    },
    {
      "metadata": {
        "id": "jaThSF8ECh2n",
        "colab_type": "code",
        "colab": {
          "base_uri": "https://localhost:8080/",
          "height": 319
        },
        "outputId": "b259f12a-369b-45da-af98-e5f9df6feb21"
      },
      "cell_type": "code",
      "source": [
        "for i in range(1, 10):\n",
        "  perm = create_random_permutation(i) \n",
        "  tic()\n",
        "  stupid_sort(perm)\n",
        "  toc()  "
      ],
      "execution_count": 17,
      "outputs": [
        {
          "output_type": "stream",
          "text": [
            "(6,)\n",
            "1.644134521484375\n",
            "(7, 9)\n",
            "0.17070770263671875\n",
            "(3, 5, 9)\n",
            "0.8561611175537109\n",
            "(1, 4, 6, 9)\n",
            "0.3345012664794922\n",
            "(2, 3, 6, 8, 9)\n",
            "0.3478527069091797\n",
            "(2, 3, 4, 6, 7, 9)\n",
            "2.026081085205078\n",
            "(1, 2, 3, 6, 7, 8, 9)\n",
            "8.236408233642578\n",
            "(2, 3, 4, 5, 6, 7, 8, 9)\n",
            "31.243324279785156\n",
            "(1, 2, 3, 4, 5, 6, 7, 8, 9)\n",
            "213.05179595947266\n"
          ],
          "name": "stdout"
        }
      ]
    }
  ]
}